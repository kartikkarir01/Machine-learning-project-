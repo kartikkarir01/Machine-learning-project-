{
 "cells": [
  {
   "cell_type": "code",
   "execution_count": 1,
   "id": "ffc74c68-16cc-4ba1-9918-ec4dce812e0f",
   "metadata": {
    "tags": []
   },
   "outputs": [],
   "source": [
    "import pandas as pd\n",
    "from sklearn.decomposition import PCA\n",
    "from sklearn.preprocessing import scale, StandardScaler\n",
    "from sklearn.metrics import confusion_matrix, classification_report, accuracy_score, precision_score, recall_score\n",
    "import matplotlib as mpl\n",
    "import matplotlib.pyplot as plt\n",
    "import drugfeatures\n",
    "\n",
    "from sklearn.model_selection import train_test_split\n",
    "from sklearn.linear_model import LogisticRegression\n",
    "\n",
    "def DropNull(features):\n",
    "    features = features.replace(99, pd.NA)\n",
    "    features = features.replace(96, pd.NA)\n",
    "    features = features.replace(9, pd.NA)\n",
    "    features = features.dropna(axis=0)\n",
    "    return features\n",
    "\n",
    "def y_replace(y):\n",
    "    y = y.replace(2,1)\n",
    "    y = y.replace(3,1)\n",
    "    y = y.replace(4,2)\n",
    "    y = y.replace(5,2)\n",
    "    y = y.replace(6,2)\n",
    "    y = y.replace(7,2)\n",
    "    y = y.replace(8,2)\n",
    "    return y\n",
    "\n",
    "def LogReg(X,y,label):\n",
    "    X_train, X_test, y_train, y_test = train_test_split(X, y, test_size=0.2, random_state=42)\n",
    "    \n",
    "    scaler = StandardScaler()\n",
    "    X_train_scaled = scaler.fit_transform(X_train)\n",
    "    X_test_scaled = scaler.transform(X_test)\n",
    "    \n",
    "    model = LogisticRegression(random_state=42, max_iter=200)\n",
    "    model.fit(X_train, y_train)\n",
    "    \n",
    "    y_pred = model.predict(X_test)\n",
    "\n",
    "    print(label, \"- Accuracy:\", accuracy_score(y_test, y_pred))\n",
    "    print(\"\\nClassification Report:\\n\", classification_report(y_test, y_pred, zero_division=1))\n",
    "\n",
    "    cm = confusion_matrix(y_test, y_pred, labels = model.classes_)\n",
    "    print(label, '- Confusion Matrix:\\n')\n",
    "    print(model.classes_)\n",
    "    print(cm, '\\n\\n_______________________________________________________________________\\n')"
   ]
  },
  {
   "cell_type": "code",
   "execution_count": 2,
   "id": "c802193d-72d3-48cd-9249-854218a5b989",
   "metadata": {
    "tags": []
   },
   "outputs": [],
   "source": [
    "dv_features = drugfeatures.dv_features\n",
    "bullied_features = drugfeatures.bullied_features\n",
    "bully_features = drugfeatures.bully_features\n",
    "tb_features = drugfeatures.tb_features\n",
    "can_features = drugfeatures.can_features"
   ]
  },
  {
   "cell_type": "code",
   "execution_count": 3,
   "id": "410fa52c-80f4-4d7f-b14d-70aa5d6fe1d2",
   "metadata": {
    "tags": []
   },
   "outputs": [],
   "source": [
    "dv_df = DropNull(dv_features)\n",
    "bullied_df = DropNull(bullied_features)\n",
    "bully_df = DropNull(bully_features)\n",
    "tb_df = DropNull(tb_features)\n",
    "can_df = DropNull(can_features)"
   ]
  },
  {
   "cell_type": "code",
   "execution_count": 4,
   "id": "a96865e7-bef2-4381-a0ea-cf7c87a73bdc",
   "metadata": {
    "tags": []
   },
   "outputs": [
    {
     "name": "stderr",
     "output_type": "stream",
     "text": [
      "/tmp/ipykernel_770/3620210486.py:20: FutureWarning: Downcasting behavior in `replace` is deprecated and will be removed in a future version. To retain the old behavior, explicitly call `result.infer_objects(copy=False)`. To opt-in to the future behavior, set `pd.set_option('future.no_silent_downcasting', True)`\n",
      "  y = y.replace(2,1)\n"
     ]
    }
   ],
   "source": [
    "# Drop target variable 'ALC_050' from X variable used in PCA\n",
    "\n",
    "# Copy this line 5x and replace variables\n",
    "# Example: X_dv for demographic features, X_bullied for experienced bullying features\n",
    "X_dv = dv_df.drop('ALC_050', axis=1)\n",
    "X_bullied = bullied_df.drop('ALC_050', axis=1)\n",
    "X_bully= bully_df.drop('ALC_050', axis=1)\n",
    "X_tb = tb_df.drop('ALC_050', axis=1)\n",
    "X_can = can_df.drop('ALC_050', axis=1)\n",
    "\n",
    "X_dv = pd.DataFrame(scale(X_dv), index = X_dv.index, columns = X_dv.columns)\n",
    "X_bullied = pd.DataFrame(scale(X_bullied), index = X_bullied.index, columns = X_bullied.columns)\n",
    "X_bully = pd.DataFrame(scale(X_bully), index = X_bully.index, columns = X_bully.columns)\n",
    "X_tb = pd.DataFrame(scale(X_tb), index = X_tb.index, columns = X_tb.columns)\n",
    "X_can = pd.DataFrame(scale(X_can), index = X_can.index, columns = X_can.columns)\n",
    "\n",
    "# Make sure to have a y variable for each set of features, otherwise there will be a mismatched values error output\n",
    "y_dv = dv_df['ALC_050']\n",
    "y_bullied = bullied_df['ALC_050']\n",
    "y_bully = bully_df['ALC_050']\n",
    "y_tb = tb_df['ALC_050']\n",
    "y_can = can_df['ALC_050']\n",
    "\n",
    "y_dv = y_replace(y_dv)\n",
    "y_bullied = y_replace(y_bullied)\n",
    "y_bully = y_replace(y_bully)\n",
    "y_tb = y_replace(y_tb)\n",
    "y_can = y_replace(y_can)\n"
   ]
  },
  {
   "cell_type": "code",
   "execution_count": 5,
   "id": "27c1ba99-1f85-41f4-8338-bba631f03e4c",
   "metadata": {
    "tags": []
   },
   "outputs": [],
   "source": [
    "# Copy 5x so that there is a pca_loadings dataframe for each set of features (example 'dv_pca_loadings')\n",
    "dv_pca_loadings = pd.DataFrame(PCA().fit(X_dv).components_.T, index=X_dv.columns, columns=['V1', 'V2', 'V3', 'V4', 'V5', 'V6', 'V7'])\n",
    "bullied_pca_loadings = pd.DataFrame(PCA().fit(X_bullied).components_.T, index=X_bullied.columns, columns=['V1', 'V2', 'V3', 'V4', 'V5', 'V6'])\n",
    "bully_pca_loadings = pd.DataFrame(PCA().fit(X_bully).components_.T, index=X_bully.columns, columns=['V1', 'V2', 'V3', 'V4', 'V5', 'V6'])\n",
    "tb_pca_loadings = pd.DataFrame(PCA().fit(X_tb).components_.T, index=X_tb.columns, columns=['V1', 'V2', 'V3', 'V4', 'V5', 'V6', 'V7', 'V8', 'V9'])\n",
    "can_pca_loadings = pd.DataFrame(PCA().fit(X_can).components_.T, index=X_can.columns, columns=['V1', 'V2', 'V3', 'V4', 'V5', 'V6', 'V7', 'V8', 'V9', 'V10', 'V11', 'V12', 'V13', 'V14', 'V15'])"
   ]
  },
  {
   "cell_type": "code",
   "execution_count": 6,
   "id": "43734b59-4630-4b53-8606-39f537f73717",
   "metadata": {
    "tags": []
   },
   "outputs": [],
   "source": [
    "pca = PCA()\n",
    "\n",
    "# Copy 5x so that there is a df_plot dataframe for each set of features (example 'dv_df_plot')\n",
    "dv_df_plot = pd.DataFrame(pca.fit_transform(X_dv), columns = ['PC1', 'PC2', 'PC3', 'PC4', 'PC5', 'PC6', 'PC7'], index=X_dv.index)\n",
    "bullied_df_plot = pd.DataFrame(pca.fit_transform(X_bullied), columns = ['PC1', 'PC2', 'PC3', 'PC4', 'PC5', 'PC6'], index=X_bullied.index)\n",
    "bully_df_plot = pd.DataFrame(pca.fit_transform(X_bully), columns = ['PC1', 'PC2', 'PC3', 'PC4', 'PC5', 'PC6'], index=X_bully.index)\n",
    "tb_df_plot = pd.DataFrame(pca.fit_transform(X_tb), columns = ['PC1', 'PC2', 'PC3', 'PC4', 'PC5', 'PC6', 'PC7', 'PC8', 'PC9'], index=X_tb.index)\n",
    "can_df_plot = pd.DataFrame(pca.fit_transform(X_can), columns = ['PC1', 'PC2', 'PC3', 'PC4', 'PC5', 'PC6', 'PC7', 'PC8', 'PC9', 'PC10', 'PC11', 'PC12', 'PC13', 'PC14', 'PC15'], index=X_can.index)"
   ]
  },
  {
   "cell_type": "code",
   "execution_count": 7,
   "id": "982428af-571c-4659-a588-8f9d2f550ab3",
   "metadata": {},
   "outputs": [],
   "source": [
    "# Copy 5x so that there is an Xlog variable for each feature set that contains the first principal component(example: dv_Xlog)\n",
    "dv_Xlog = dv_df_plot[['PC1']]\n",
    "bullied_Xlog = bullied_df_plot[['PC1']]\n",
    "bully_Xlog = bully_df_plot[['PC1']]\n",
    "tb_Xlog = tb_df_plot[['PC1']]\n",
    "can_Xlog = can_df_plot[['PC1']]"
   ]
  },
  {
   "cell_type": "code",
   "execution_count": 8,
   "id": "a76281ad-dfda-41cb-a0c6-704383b72ce8",
   "metadata": {
    "tags": []
   },
   "outputs": [
    {
     "name": "stdout",
     "output_type": "stream",
     "text": [
      "Demographic Variables - Accuracy: 0.738347718865598\n",
      "\n",
      "Classification Report:\n",
      "               precision    recall  f1-score   support\n",
      "\n",
      "           1       0.74      1.00      0.85      2994\n",
      "           2       1.00      0.00      0.00      1061\n",
      "\n",
      "    accuracy                           0.74      4055\n",
      "   macro avg       0.87      0.50      0.42      4055\n",
      "weighted avg       0.81      0.74      0.63      4055\n",
      "\n",
      "Demographic Variables - Confusion Matrix:\n",
      "\n",
      "[1 2]\n",
      "[[2994    0]\n",
      " [1061    0]] \n",
      "\n",
      "_______________________________________________________________________\n",
      "\n",
      "Experienced Bullying - Accuracy: 0.7569955817378498\n",
      "\n",
      "Classification Report:\n",
      "               precision    recall  f1-score   support\n",
      "\n",
      "           1       0.76      1.00      0.86      3598\n",
      "           2       1.00      0.00      0.00      1155\n",
      "\n",
      "    accuracy                           0.76      4753\n",
      "   macro avg       0.88      0.50      0.43      4753\n",
      "weighted avg       0.82      0.76      0.65      4753\n",
      "\n",
      "Experienced Bullying - Confusion Matrix:\n",
      "\n",
      "[1 2]\n",
      "[[3598    0]\n",
      " [1155    0]] \n",
      "\n",
      "_______________________________________________________________________\n",
      "\n",
      "bullied another students - Accuracy: 0.745804338927548\n",
      "\n",
      "Classification Report:\n",
      "               precision    recall  f1-score   support\n",
      "\n",
      "           1       0.75      0.99      0.85      3620\n",
      "           2       0.66      0.04      0.07      1266\n",
      "\n",
      "    accuracy                           0.75      4886\n",
      "   macro avg       0.70      0.52      0.46      4886\n",
      "weighted avg       0.73      0.75      0.65      4886\n",
      "\n",
      "bullied another students - Confusion Matrix:\n",
      "\n",
      "[1 2]\n",
      "[[3595   25]\n",
      " [1217   49]] \n",
      "\n",
      "_______________________________________________________________________\n",
      "\n",
      "used tabaco - Accuracy: 0.6485809682804674\n",
      "\n",
      "Classification Report:\n",
      "               precision    recall  f1-score   support\n",
      "\n",
      "           1       0.63      0.74      0.68       607\n",
      "           2       0.68      0.55      0.61       591\n",
      "\n",
      "    accuracy                           0.65      1198\n",
      "   macro avg       0.65      0.65      0.64      1198\n",
      "weighted avg       0.65      0.65      0.65      1198\n",
      "\n",
      "used tabaco - Confusion Matrix:\n",
      "\n",
      "[1 2]\n",
      "[[450 157]\n",
      " [264 327]] \n",
      "\n",
      "_______________________________________________________________________\n",
      "\n",
      "used cannabis - Accuracy: 0.6131921824104235\n",
      "\n",
      "Classification Report:\n",
      "               precision    recall  f1-score   support\n",
      "\n",
      "           1       0.62      0.86      0.72       701\n",
      "           2       0.60      0.29      0.39       527\n",
      "\n",
      "    accuracy                           0.61      1228\n",
      "   macro avg       0.61      0.57      0.55      1228\n",
      "weighted avg       0.61      0.61      0.58      1228\n",
      "\n",
      "used cannabis - Confusion Matrix:\n",
      "\n",
      "[1 2]\n",
      "[[601 100]\n",
      " [375 152]] \n",
      "\n",
      "_______________________________________________________________________\n",
      "\n"
     ]
    }
   ],
   "source": [
    "# Copy 5x with Xlog and y variables corresponding to each set of features\n",
    "LogReg(dv_Xlog,y_dv, 'Demographic Variables')\n",
    "LogReg(bullied_Xlog,y_bullied, 'Experienced Bullying')\n",
    "LogReg(bully_Xlog,y_bully, 'bullied another students')\n",
    "LogReg(tb_Xlog,y_tb, 'used tabaco')\n",
    "LogReg(can_Xlog,y_can, 'used cannabis')"
   ]
  },
  {
   "cell_type": "markdown",
   "id": "d675966e-73a8-4611-b239-0aa5daaa5fc7",
   "metadata": {},
   "source": [
    "# Interpretation\n",
    "Accuracy is the same in the PCA version of the logistic regression model using only 1 principal component compared to the 7 original features, meaning that in this case, pca was able to effectively decompose the variables while retaining the same amount of variance"
   ]
  },
  {
   "cell_type": "code",
   "execution_count": null,
   "id": "b6fc054f-3a40-4550-b582-112a39873aac",
   "metadata": {},
   "outputs": [],
   "source": []
  }
 ],
 "metadata": {
  "kernelspec": {
   "display_name": "Python 3 (ipykernel)",
   "language": "python",
   "name": "python3"
  },
  "language_info": {
   "codemirror_mode": {
    "name": "ipython",
    "version": 3
   },
   "file_extension": ".py",
   "mimetype": "text/x-python",
   "name": "python",
   "nbconvert_exporter": "python",
   "pygments_lexer": "ipython3",
   "version": "3.11.9"
  }
 },
 "nbformat": 4,
 "nbformat_minor": 5
}
