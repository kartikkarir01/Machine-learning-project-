{
 "cells": [
  {
   "cell_type": "code",
   "execution_count": 1,
   "id": "186206b0-2b6a-4e74-978b-7322ff976047",
   "metadata": {
    "tags": []
   },
   "outputs": [],
   "source": [
    "import pandas as pd\n",
    "from sklearn.model_selection import train_test_split\n",
    "from sklearn.linear_model import LogisticRegression\n",
    "from sklearn.metrics import accuracy_score, classification_report, confusion_matrix\n",
    "import seaborn as sns\n",
    "import matplotlib.pyplot as plt\n",
    "import drugfeatures\n",
    "\n",
    "from sklearn.preprocessing import StandardScaler"
   ]
  },
  {
   "cell_type": "code",
   "execution_count": 2,
   "id": "76906230-15bf-47a6-a64a-41df1698c1da",
   "metadata": {
    "tags": []
   },
   "outputs": [],
   "source": [
    "#df = pd.read_csv('drug.csv')\n",
    "#df.describe()"
   ]
  },
  {
   "cell_type": "code",
   "execution_count": 3,
   "id": "b11e2ce4-a0a1-488f-8b2d-803e56f33da9",
   "metadata": {
    "tags": []
   },
   "outputs": [],
   "source": [
    "def DropNull(features):\n",
    "    features = features.replace(99, pd.NA)\n",
    "    features = features.replace(96, pd.NA)\n",
    "    features = features.replace(9, pd.NA)\n",
    "    features = features.dropna(axis=0)\n",
    "    return features\n",
    "\n",
    "def y_replace(y):\n",
    "    y = y.replace(2,1)\n",
    "    y = y.replace(3,1)\n",
    "    y = y.replace(4,1)\n",
    "    y = y.replace(5,2)\n",
    "    y = y.replace(6,2)\n",
    "    y = y.replace(7,2)\n",
    "    y = y.replace(8,2)\n",
    "    return y\n",
    "\n",
    "def LogReg(X,y,label):\n",
    "    X_train, X_test, y_train, y_test = train_test_split(X, y, test_size=0.2, random_state=42)\n",
    "    \n",
    "    scaler = StandardScaler()\n",
    "    X_train_scaled = scaler.fit_transform(X_train)\n",
    "    X_test_scaled = scaler.transform(X_test)\n",
    "    \n",
    "    model = LogisticRegression(random_state=42)\n",
    "    model.fit(X_train_scaled, y_train)\n",
    "    \n",
    "    y_pred = model.predict(X_test_scaled)\n",
    "\n",
    "    print(label, \"- Accuracy:\", accuracy_score(y_test, y_pred))\n",
    "    print(\"\\nClassification Report:\\n\", classification_report(y_test, y_pred, zero_division=1))\n",
    "\n",
    "    cm = confusion_matrix(y_test, y_pred, labels = model.classes_)\n",
    "    print(label, '- Confusion Matrix:\\n')\n",
    "    print(model.classes_)\n",
    "    print(cm, '\\n\\n_______________________________________________________________________\\n')"
   ]
  },
  {
   "cell_type": "markdown",
   "id": "6b54f18f-d830-4cfe-aef8-59d13e877e0c",
   "metadata": {},
   "source": [
    "The National Institute on Alcohol Abuse and Alcoholism (NIAAA) defines excessive or heavy drinking for women as consuming 7 or more drinks per week, and for men as consuming 15 or more drinks per week\n",
    "\n",
    "Any alcohol intake is not healthy while a young person's brain is still developing. However, assume that a high school student drinking 5 or more drinks (to intoxication) at least once a month is high risk alcohol intake."
   ]
  },
  {
   "cell_type": "code",
   "execution_count": 4,
   "id": "2ffe4ad6-a6ea-4444-8dfd-19c1bf415953",
   "metadata": {
    "tags": []
   },
   "outputs": [],
   "source": [
    "dv_features = DropNull(drugfeatures.dv_features)\n",
    "bullied_features = DropNull(drugfeatures.bullied_features)\n",
    "bully_features = DropNull(drugfeatures.bully_features)\n",
    "tb_features = DropNull(drugfeatures.tb_features)\n",
    "can_features = DropNull(drugfeatures.can_features)"
   ]
  },
  {
   "cell_type": "code",
   "execution_count": 5,
   "id": "07063ea2-b61c-426f-a22e-a80389a30005",
   "metadata": {
    "tags": []
   },
   "outputs": [
    {
     "name": "stderr",
     "output_type": "stream",
     "text": [
      "/tmp/ipykernel_735/3171741331.py:9: FutureWarning: Downcasting behavior in `replace` is deprecated and will be removed in a future version. To retain the old behavior, explicitly call `result.infer_objects(copy=False)`. To opt-in to the future behavior, set `pd.set_option('future.no_silent_downcasting', True)`\n",
      "  y = y.replace(2,1)\n"
     ]
    }
   ],
   "source": [
    "X_dv = dv_features.drop('ALC_050', axis=1)\n",
    "y_dv = dv_features['ALC_050']\n",
    "X_bullied = bullied_features.drop('ALC_050', axis=1)\n",
    "y_bullied = bullied_features['ALC_050']\n",
    "X_bully = bully_features.drop('ALC_050', axis=1)\n",
    "y_bully = bully_features['ALC_050']\n",
    "X_tb = tb_features.drop('ALC_050', axis=1)\n",
    "y_tb = tb_features['ALC_050']\n",
    "X_can = can_features.drop('ALC_050', axis=1)\n",
    "y_can = can_features['ALC_050']\n",
    "\n",
    "# ALC_050: 'In the last 12 months, how often did you have 5 or more drinks of alcohol on one occasion?'\n",
    "# Values 1-3 represent low risk drinking (less than once a month)\n",
    "# Values 4-9 represent high risk drinking (once a month or more)\n",
    "y_dv = y_replace(y_dv)\n",
    "y_bullied = y_replace(y_bullied)\n",
    "y_bully = y_replace(y_bully)\n",
    "y_tb = y_replace(y_tb)\n",
    "y_can = y_replace(y_can)"
   ]
  },
  {
   "cell_type": "code",
   "execution_count": 7,
   "id": "27df4292-e186-48cd-902c-5e4550d85539",
   "metadata": {
    "tags": []
   },
   "outputs": [
    {
     "name": "stdout",
     "output_type": "stream",
     "text": [
      "Demographic Variables - Accuracy: 0.8345252774352651\n",
      "\n",
      "Classification Report:\n",
      "               precision    recall  f1-score   support\n",
      "\n",
      "           1       0.83      1.00      0.91      3384\n",
      "           2       1.00      0.00      0.00       671\n",
      "\n",
      "    accuracy                           0.83      4055\n",
      "   macro avg       0.92      0.50      0.45      4055\n",
      "weighted avg       0.86      0.83      0.76      4055\n",
      "\n",
      "Demographic Variables - Confusion Matrix:\n",
      "\n",
      "[1 2]\n",
      "[[3384    0]\n",
      " [ 671    0]] \n",
      "\n",
      "_______________________________________________________________________\n",
      "\n",
      "Past 30 Days: Experienced Bullying - Accuracy: 0.8523038081211867\n",
      "\n",
      "Classification Report:\n",
      "               precision    recall  f1-score   support\n",
      "\n",
      "           1       0.85      1.00      0.92      4051\n",
      "           2       1.00      0.00      0.00       702\n",
      "\n",
      "    accuracy                           0.85      4753\n",
      "   macro avg       0.93      0.50      0.46      4753\n",
      "weighted avg       0.87      0.85      0.78      4753\n",
      "\n",
      "Past 30 Days: Experienced Bullying - Confusion Matrix:\n",
      "\n",
      "[1 2]\n",
      "[[4051    0]\n",
      " [ 702    0]] \n",
      "\n",
      "_______________________________________________________________________\n",
      "\n",
      "Past 30 Days: Bullied Another Student - Accuracy: 0.8397462136717151\n",
      "\n",
      "Classification Report:\n",
      "               precision    recall  f1-score   support\n",
      "\n",
      "           1       0.84      1.00      0.91      4084\n",
      "           2       0.76      0.03      0.07       802\n",
      "\n",
      "    accuracy                           0.84      4886\n",
      "   macro avg       0.80      0.52      0.49      4886\n",
      "weighted avg       0.83      0.84      0.77      4886\n",
      "\n",
      "Past 30 Days: Bullied Another Student - Confusion Matrix:\n",
      "\n",
      "[1 2]\n",
      "[[4075    9]\n",
      " [ 774   28]] \n",
      "\n",
      "_______________________________________________________________________\n",
      "\n",
      "Past 30 Days: Used Tobacco - Accuracy: 0.6911519198664441\n",
      "\n",
      "Classification Report:\n",
      "               precision    recall  f1-score   support\n",
      "\n",
      "           1       0.70      0.92      0.79       780\n",
      "           2       0.63      0.27      0.38       418\n",
      "\n",
      "    accuracy                           0.69      1198\n",
      "   macro avg       0.67      0.59      0.59      1198\n",
      "weighted avg       0.68      0.69      0.65      1198\n",
      "\n",
      "Past 30 Days: Used Tobacco - Confusion Matrix:\n",
      "\n",
      "[1 2]\n",
      "[[714  66]\n",
      " [304 114]] \n",
      "\n",
      "_______________________________________________________________________\n",
      "\n",
      "Past 30 Days: Used Cannabis - Accuracy: 0.7337133550488599\n",
      "\n",
      "Classification Report:\n",
      "               precision    recall  f1-score   support\n",
      "\n",
      "           1       0.76      0.93      0.83       880\n",
      "           2       0.57      0.24      0.34       348\n",
      "\n",
      "    accuracy                           0.73      1228\n",
      "   macro avg       0.66      0.59      0.59      1228\n",
      "weighted avg       0.70      0.73      0.69      1228\n",
      "\n",
      "Past 30 Days: Used Cannabis - Confusion Matrix:\n",
      "\n",
      "[1 2]\n",
      "[[816  64]\n",
      " [263  85]] \n",
      "\n",
      "_______________________________________________________________________\n",
      "\n"
     ]
    }
   ],
   "source": [
    "LogReg(X_dv,y_dv,'Demographic Variables')\n",
    "LogReg(X_bullied,y_bullied,'Past 30 Days: Experienced Bullying')\n",
    "LogReg(X_bully,y_bully,'Past 30 Days: Bullied Another Student')\n",
    "LogReg(X_tb,y_tb,'Past 30 Days: Used Tobacco')\n",
    "LogReg(X_can,y_can,'Past 30 Days: Used Cannabis')"
   ]
  },
  {
   "cell_type": "code",
   "execution_count": null,
   "id": "905ce4fb-1e20-463e-99dd-5abefe1c320b",
   "metadata": {},
   "outputs": [],
   "source": []
  }
 ],
 "metadata": {
  "kernelspec": {
   "display_name": "Python 3 (ipykernel)",
   "language": "python",
   "name": "python3"
  },
  "language_info": {
   "codemirror_mode": {
    "name": "ipython",
    "version": 3
   },
   "file_extension": ".py",
   "mimetype": "text/x-python",
   "name": "python",
   "nbconvert_exporter": "python",
   "pygments_lexer": "ipython3",
   "version": "3.11.9"
  }
 },
 "nbformat": 4,
 "nbformat_minor": 5
}
