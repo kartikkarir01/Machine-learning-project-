{
 "cells": [
  {
   "cell_type": "code",
   "execution_count": 16,
   "id": "ffc74c68-16cc-4ba1-9918-ec4dce812e0f",
   "metadata": {
    "tags": []
   },
   "outputs": [],
   "source": [
    "import pandas as pd\n",
    "from sklearn.decomposition import PCA\n",
    "from sklearn.preprocessing import scale, StandardScaler\n",
    "from sklearn.metrics import confusion_matrix, classification_report, accuracy_score, precision_score, recall_score\n",
    "import matplotlib as mpl\n",
    "import matplotlib.pyplot as plt\n",
    "import drugfeatures\n",
    "\n",
    "from sklearn.model_selection import train_test_split\n",
    "from sklearn.linear_model import LogisticRegression\n",
    "from sklearn.tree import DecisionTreeClassifier, plot_tree\n",
    "\n",
    "def DropNull(features):\n",
    "    features = features.replace(99, pd.NA)\n",
    "    features = features.replace(96, pd.NA)\n",
    "    features = features.replace(9, pd.NA)\n",
    "    features = features.dropna(axis=0)\n",
    "    return features\n",
    "\n",
    "def y_replace(y):\n",
    "    y = y.replace(2,1)\n",
    "    y = y.replace(3,1)\n",
    "    y = y.replace(4,2)\n",
    "    y = y.replace(5,2)\n",
    "    y = y.replace(6,2)\n",
    "    y = y.replace(7,2)\n",
    "    y = y.replace(8,2)\n",
    "    return y\n",
    "\n",
    "def DecisionTree(X,y,label):\n",
    "    X_train, X_test, y_train, y_test = train_test_split(X, y, test_size=0.2, random_state=42)\n",
    "    \n",
    "    scaler = StandardScaler()\n",
    "    X_train_scaled = scaler.fit_transform(X_train)\n",
    "    X_test_scaled = scaler.transform(X_test)\n",
    "    \n",
    "    model = DecisionTreeClassifier()\n",
    "    model.fit(X_train_scaled, y_train)\n",
    "    \n",
    "    y_pred = model.predict(X_test_scaled)\n",
    "\n",
    "    print(label, \"- Accuracy:\", accuracy_score(y_test, y_pred))\n",
    "    print(\"\\nClassification Report:\\n\", classification_report(y_test, y_pred, zero_division=1))\n",
    "\n",
    "    cm = confusion_matrix(y_test, y_pred, labels = model.classes_)\n",
    "    print(label, '- Confusion Matrix:\\n')\n",
    "    print(model.classes_)\n",
    "    print(cm, '\\n\\n_______________________________________________________________________\\n')"
   ]
  },
  {
   "cell_type": "code",
   "execution_count": 17,
   "id": "c802193d-72d3-48cd-9249-854218a5b989",
   "metadata": {
    "tags": []
   },
   "outputs": [],
   "source": [
    "dv_features = drugfeatures.dv_features\n",
    "bullied_features = drugfeatures.bullied_features\n",
    "bully_features = drugfeatures.bully_features\n",
    "tb_features = drugfeatures.tb_features\n",
    "can_features = drugfeatures.can_features"
   ]
  },
  {
   "cell_type": "code",
   "execution_count": 18,
   "id": "410fa52c-80f4-4d7f-b14d-70aa5d6fe1d2",
   "metadata": {
    "tags": []
   },
   "outputs": [],
   "source": [
    "dv_df = DropNull(dv_features)\n",
    "bullied_df = DropNull(bullied_features)\n",
    "bully_df = DropNull(bully_features)\n",
    "tb_df = DropNull(tb_features)\n",
    "can_df = DropNull(can_features)"
   ]
  },
  {
   "cell_type": "code",
   "execution_count": 19,
   "id": "a96865e7-bef2-4381-a0ea-cf7c87a73bdc",
   "metadata": {
    "tags": []
   },
   "outputs": [],
   "source": [
    "# Drop target variable 'ALC_050' from X variable used in PCA\n",
    "\n",
    "# Copy this line 5x and replace variables\n",
    "# Example: X_dv for demographic features, X_bullied for experienced bullying features\n",
    "X_dv = dv_df.drop('ALC_050', axis=1)\n",
    "X_bullied = bullied_df.drop('ALC_050', axis=1)\n",
    "X = dv_df.drop('ALC_050', axis=1)\n",
    "X = dv_df.drop('ALC_050', axis=1)\n",
    "X = dv_df.drop('ALC_050', axis=1)\n",
    "\n",
    "X = pd.DataFrame(scale(X), index = X.index, columns = X.columns)\n",
    "\n",
    "# Make sure to have a y variable for each set of features, otherwise there will be a mismatched values error output\n",
    "y_dv = dv_df['ALC_050']\n",
    "y_bullied = bullied_df['ALC_050']\n",
    "y = dv_df['ALC_050']\n",
    "y = dv_df['ALC_050']\n",
    "y = dv_df['ALC_050']\n",
    "\n",
    "y_dv = y_replace(y_dv)\n",
    "y_bullied = y_replace(y_bullied)\n",
    "y = y_replace(y)\n",
    "y = y_replace(y)\n",
    "y = y_replace(y)\n"
   ]
  },
  {
   "cell_type": "code",
   "execution_count": 20,
   "id": "27c1ba99-1f85-41f4-8338-bba631f03e4c",
   "metadata": {
    "tags": []
   },
   "outputs": [],
   "source": [
    "# Copy 5x so that there is a pca_loadings dataframe for each set of features (example 'dv_pca_loadings')\n",
    "dv_pca_loadings = pd.DataFrame(PCA().fit(X_dv).components_.T, index=X_dv.columns, columns=['V1', 'V2', 'V3', 'V4', 'V5', 'V6', 'V7'])\n",
    "bullied_pca_loadings = pd.DataFrame(PCA().fit(X_bullied).components_.T, index=X_bullied.columns, columns=['V1', 'V2', 'V3', 'V4', 'V5', 'V6'])"
   ]
  },
  {
   "cell_type": "code",
   "execution_count": 22,
   "id": "66f22772-38ee-4dfe-8fab-67de0a6fc9f1",
   "metadata": {
    "tags": []
   },
   "outputs": [],
   "source": [
    "#pca_loadings"
   ]
  },
  {
   "cell_type": "code",
   "execution_count": 23,
   "id": "43734b59-4630-4b53-8606-39f537f73717",
   "metadata": {
    "tags": []
   },
   "outputs": [],
   "source": [
    "pca = PCA()\n",
    "\n",
    "# Copy 5x so that there is a df_plot dataframe for each set of features (example 'dv_df_plot')\n",
    "dv_df_plot = pd.DataFrame(pca.fit_transform(X_dv), columns = ['PC1', 'PC2', 'PC3', 'PC4', 'PC5', 'PC6', 'PC7'], index=X_dv.index)\n",
    "bullied_df_plot = pd.DataFrame(pca.fit_transform(X_bullied), columns = ['PC1', 'PC2', 'PC3', 'PC4', 'PC5', 'PC6'], index=X_bullied.index)"
   ]
  },
  {
   "cell_type": "code",
   "execution_count": 24,
   "id": "5409d2a5-d4ef-4dab-9ac0-eeebbcee72b9",
   "metadata": {
    "scrolled": true,
    "tags": []
   },
   "outputs": [
    {
     "ename": "NameError",
     "evalue": "name 'df_plot' is not defined",
     "output_type": "error",
     "traceback": [
      "\u001b[0;31m---------------------------------------------------------------------------\u001b[0m",
      "\u001b[0;31mNameError\u001b[0m                                 Traceback (most recent call last)",
      "Cell \u001b[0;32mIn[24], line 9\u001b[0m\n\u001b[1;32m      6\u001b[0m ax1\u001b[38;5;241m.\u001b[39mset_ylim(\u001b[38;5;241m-\u001b[39m\u001b[38;5;241m3.5\u001b[39m,\u001b[38;5;241m3.5\u001b[39m)\n\u001b[1;32m      8\u001b[0m \u001b[38;5;66;03m# Plot Principal Components 1 and 2\u001b[39;00m\n\u001b[0;32m----> 9\u001b[0m df_plot_sample \u001b[38;5;241m=\u001b[39m \u001b[43mdf_plot\u001b[49m\u001b[38;5;241m.\u001b[39mhead(\u001b[38;5;241m50\u001b[39m)\n\u001b[1;32m     10\u001b[0m \u001b[38;5;28;01mfor\u001b[39;00m i \u001b[38;5;129;01min\u001b[39;00m df_plot_sample\u001b[38;5;241m.\u001b[39mindex:\n\u001b[1;32m     11\u001b[0m     ax1\u001b[38;5;241m.\u001b[39mannotate(i, (\u001b[38;5;241m-\u001b[39mdf_plot_sample\u001b[38;5;241m.\u001b[39mPC1\u001b[38;5;241m.\u001b[39mloc[i], \u001b[38;5;241m-\u001b[39mdf_plot_sample\u001b[38;5;241m.\u001b[39mPC2\u001b[38;5;241m.\u001b[39mloc[i]), ha\u001b[38;5;241m=\u001b[39m\u001b[38;5;124m'\u001b[39m\u001b[38;5;124mcenter\u001b[39m\u001b[38;5;124m'\u001b[39m)\n",
      "\u001b[0;31mNameError\u001b[0m: name 'df_plot' is not defined"
     ]
    },
    {
     "data": {
      "image/png": "[encoded data removed]",
      "text/plain": [
       "<Figure size 900x700 with 1 Axes>"
      ]
     },
     "metadata": {},
     "output_type": "display_data"
    }
   ],
   "source": [
    "# Not sure if its necessary to make biplots for every set of values, dont worry about this for now\n",
    "\n",
    "fig , ax1 = plt.subplots(figsize=(9,7))\n",
    "\n",
    "ax1.set_xlim(-3.5,3.5)\n",
    "ax1.set_ylim(-3.5,3.5)\n",
    "\n",
    "# Plot Principal Components 1 and 2\n",
    "df_plot_sample = df_plot.head(50)\n",
    "for i in df_plot_sample.index:\n",
    "    ax1.annotate(i, (-df_plot_sample.PC1.loc[i], -df_plot_sample.PC2.loc[i]), ha='center')\n",
    "\n",
    "# Plot reference lines\n",
    "ax1.hlines(0,-3.5,3.5, linestyles='dotted', colors='grey')\n",
    "ax1.vlines(0,-3.5,3.5, linestyles='dotted', colors='grey')\n",
    "\n",
    "ax1.set_xlabel('First Principal Component')\n",
    "ax1.set_ylabel('Second Principal Component')\n",
    "    \n",
    "# Plot Principal Component loading vectors, using a second y-axis.\n",
    "ax2 = ax1.twinx().twiny() \n",
    "\n",
    "ax2.set_ylim(-1,1)\n",
    "ax2.set_xlim(-1,1)\n",
    "ax2.set_xlabel('Principal Component loading vectors', color='red')\n",
    "\n",
    "# Plot labels for vectors. Variable 'a' is a small offset parameter to separate arrow tip and text.\n",
    "a = 1.07  \n",
    "for i in pca_loadings[['V1', 'V2']].index:\n",
    "    ax2.annotate(i, (-pca_loadings.V1.loc[i]*a, -pca_loadings.V2.loc[i]*a), color='red')\n",
    "\n",
    "# Plot vectors\n",
    "ax2.arrow(0,0,-pca_loadings.V1[0], -pca_loadings.V2[0])\n",
    "ax2.arrow(0,0,-pca_loadings.V1[1], -pca_loadings.V2[1])\n",
    "ax2.arrow(0,0,-pca_loadings.V1[2], -pca_loadings.V2[2])\n",
    "ax2.arrow(0,0,-pca_loadings.V1[3], -pca_loadings.V2[3])"
   ]
  },
  {
   "cell_type": "code",
   "execution_count": 25,
   "id": "982428af-571c-4659-a588-8f9d2f550ab3",
   "metadata": {},
   "outputs": [],
   "source": [
    "# Copy 5x so that there is an Xlog variable for each feature set that contains the first principal component(example: dv_Xlog)\n",
    "dv_Xlog = dv_df_plot[['PC1']]"
   ]
  },
  {
   "cell_type": "code",
   "execution_count": 26,
   "id": "a76281ad-dfda-41cb-a0c6-704383b72ce8",
   "metadata": {
    "tags": []
   },
   "outputs": [
    {
     "name": "stdout",
     "output_type": "stream",
     "text": [
      "Demographic Variables - Accuracy: 0.7250308261405672\n",
      "\n",
      "Classification Report:\n",
      "               precision    recall  f1-score   support\n",
      "\n",
      "           1       0.74      0.96      0.84      2994\n",
      "           2       0.35      0.06      0.10      1061\n",
      "\n",
      "    accuracy                           0.73      4055\n",
      "   macro avg       0.54      0.51      0.47      4055\n",
      "weighted avg       0.64      0.73      0.64      4055\n",
      "\n",
      "Demographic Variables - Confusion Matrix:\n",
      "\n",
      "[1 2]\n",
      "[[2879  115]\n",
      " [1000   61]] \n",
      "\n",
      "_______________________________________________________________________\n",
      "\n"
     ]
    }
   ],
   "source": [
    "# Copy 5x with Xlog and y variables corresponding to each set of features\n",
    "DecisionTree(dv_Xlog,y_dv, 'Demographic Variables')"
   ]
  },
  {
   "cell_type": "markdown",
   "id": "d675966e-73a8-4611-b239-0aa5daaa5fc7",
   "metadata": {},
   "source": [
    "# Interpretation\n",
    "Accuracy is the same in the PCA version of the logistic regression model using only 1 principal component compared to the 7 original features, meaning that in this case, pca was able to effectively decompose the variables while retaining the same amount of variance"
   ]
  },
  {
   "cell_type": "code",
   "execution_count": null,
   "id": "b6fc054f-3a40-4550-b582-112a39873aac",
   "metadata": {},
   "outputs": [],
   "source": []
  }
 ],
 "metadata": {
  "kernelspec": {
   "display_name": "Python 3 (ipykernel)",
   "language": "python",
   "name": "python3"
  },
  "language_info": {
   "codemirror_mode": {
    "name": "ipython",
    "version": 3
   },
   "file_extension": ".py",
   "mimetype": "text/x-python",
   "name": "python",
   "nbconvert_exporter": "python",
   "pygments_lexer": "ipython3",
   "version": "3.11.6"
  }
 },
 "nbformat": 4,
 "nbformat_minor": 5
}
